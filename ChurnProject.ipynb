{
 "cells": [
  {
   "cell_type": "markdown",
   "id": "29d8ad2a-105c-490b-8cbb-409ffec3c1ce",
   "metadata": {},
   "source": [
    "# Data Ingestion & ETL"
   ]
  },
  {
   "cell_type": "code",
   "execution_count": 148,
   "id": "00188159-4a20-45bd-8e7a-263fed3ed9cd",
   "metadata": {},
   "outputs": [],
   "source": [
    "# !pip install pandas sqlalchemy pymongo\n",
    "import pandas as pd\n",
    "import hashlib\n",
    "from sqlalchemy import create_engine"
   ]
  },
  {
   "cell_type": "code",
   "execution_count": 149,
   "id": "6bf56aa9-ad38-40e9-a9d6-0e8a8312bf18",
   "metadata": {},
   "outputs": [
    {
     "name": "stdout",
     "output_type": "stream",
     "text": [
      "Shape: (7043, 21)\n"
     ]
    },
    {
     "data": {
      "text/html": [
       "<div>\n",
       "<style scoped>\n",
       "    .dataframe tbody tr th:only-of-type {\n",
       "        vertical-align: middle;\n",
       "    }\n",
       "\n",
       "    .dataframe tbody tr th {\n",
       "        vertical-align: top;\n",
       "    }\n",
       "\n",
       "    .dataframe thead th {\n",
       "        text-align: right;\n",
       "    }\n",
       "</style>\n",
       "<table border=\"1\" class=\"dataframe\">\n",
       "  <thead>\n",
       "    <tr style=\"text-align: right;\">\n",
       "      <th></th>\n",
       "      <th>customerID</th>\n",
       "      <th>gender</th>\n",
       "      <th>SeniorCitizen</th>\n",
       "      <th>Partner</th>\n",
       "      <th>Dependents</th>\n",
       "      <th>tenure</th>\n",
       "      <th>PhoneService</th>\n",
       "      <th>MultipleLines</th>\n",
       "      <th>InternetService</th>\n",
       "      <th>OnlineSecurity</th>\n",
       "      <th>...</th>\n",
       "      <th>DeviceProtection</th>\n",
       "      <th>TechSupport</th>\n",
       "      <th>StreamingTV</th>\n",
       "      <th>StreamingMovies</th>\n",
       "      <th>Contract</th>\n",
       "      <th>PaperlessBilling</th>\n",
       "      <th>PaymentMethod</th>\n",
       "      <th>MonthlyCharges</th>\n",
       "      <th>TotalCharges</th>\n",
       "      <th>Churn</th>\n",
       "    </tr>\n",
       "  </thead>\n",
       "  <tbody>\n",
       "    <tr>\n",
       "      <th>0</th>\n",
       "      <td>7590-VHVEG</td>\n",
       "      <td>Female</td>\n",
       "      <td>0</td>\n",
       "      <td>Yes</td>\n",
       "      <td>No</td>\n",
       "      <td>1</td>\n",
       "      <td>No</td>\n",
       "      <td>No phone service</td>\n",
       "      <td>DSL</td>\n",
       "      <td>No</td>\n",
       "      <td>...</td>\n",
       "      <td>No</td>\n",
       "      <td>No</td>\n",
       "      <td>No</td>\n",
       "      <td>No</td>\n",
       "      <td>Month-to-month</td>\n",
       "      <td>Yes</td>\n",
       "      <td>Electronic check</td>\n",
       "      <td>29.85</td>\n",
       "      <td>29.85</td>\n",
       "      <td>No</td>\n",
       "    </tr>\n",
       "    <tr>\n",
       "      <th>1</th>\n",
       "      <td>5575-GNVDE</td>\n",
       "      <td>Male</td>\n",
       "      <td>0</td>\n",
       "      <td>No</td>\n",
       "      <td>No</td>\n",
       "      <td>34</td>\n",
       "      <td>Yes</td>\n",
       "      <td>No</td>\n",
       "      <td>DSL</td>\n",
       "      <td>Yes</td>\n",
       "      <td>...</td>\n",
       "      <td>Yes</td>\n",
       "      <td>No</td>\n",
       "      <td>No</td>\n",
       "      <td>No</td>\n",
       "      <td>One year</td>\n",
       "      <td>No</td>\n",
       "      <td>Mailed check</td>\n",
       "      <td>56.95</td>\n",
       "      <td>1889.5</td>\n",
       "      <td>No</td>\n",
       "    </tr>\n",
       "    <tr>\n",
       "      <th>2</th>\n",
       "      <td>3668-QPYBK</td>\n",
       "      <td>Male</td>\n",
       "      <td>0</td>\n",
       "      <td>No</td>\n",
       "      <td>No</td>\n",
       "      <td>2</td>\n",
       "      <td>Yes</td>\n",
       "      <td>No</td>\n",
       "      <td>DSL</td>\n",
       "      <td>Yes</td>\n",
       "      <td>...</td>\n",
       "      <td>No</td>\n",
       "      <td>No</td>\n",
       "      <td>No</td>\n",
       "      <td>No</td>\n",
       "      <td>Month-to-month</td>\n",
       "      <td>Yes</td>\n",
       "      <td>Mailed check</td>\n",
       "      <td>53.85</td>\n",
       "      <td>108.15</td>\n",
       "      <td>Yes</td>\n",
       "    </tr>\n",
       "  </tbody>\n",
       "</table>\n",
       "<p>3 rows × 21 columns</p>\n",
       "</div>"
      ],
      "text/plain": [
       "   customerID  gender  SeniorCitizen Partner Dependents  tenure PhoneService  \\\n",
       "0  7590-VHVEG  Female              0     Yes         No       1           No   \n",
       "1  5575-GNVDE    Male              0      No         No      34          Yes   \n",
       "2  3668-QPYBK    Male              0      No         No       2          Yes   \n",
       "\n",
       "      MultipleLines InternetService OnlineSecurity  ... DeviceProtection  \\\n",
       "0  No phone service             DSL             No  ...               No   \n",
       "1                No             DSL            Yes  ...              Yes   \n",
       "2                No             DSL            Yes  ...               No   \n",
       "\n",
       "  TechSupport StreamingTV StreamingMovies        Contract PaperlessBilling  \\\n",
       "0          No          No              No  Month-to-month              Yes   \n",
       "1          No          No              No        One year               No   \n",
       "2          No          No              No  Month-to-month              Yes   \n",
       "\n",
       "      PaymentMethod MonthlyCharges  TotalCharges Churn  \n",
       "0  Electronic check          29.85         29.85    No  \n",
       "1      Mailed check          56.95        1889.5    No  \n",
       "2      Mailed check          53.85        108.15   Yes  \n",
       "\n",
       "[3 rows x 21 columns]"
      ]
     },
     "execution_count": 149,
     "metadata": {},
     "output_type": "execute_result"
    }
   ],
   "source": [
    "# Load dataset\n",
    "file_path = \"ChurnDataset.csv\"\n",
    "df = pd.read_csv(file_path)\n",
    "\n",
    "print(\"Shape:\", df.shape)\n",
    "df.head(3)"
   ]
  },
  {
   "cell_type": "code",
   "execution_count": 150,
   "id": "b1ec540d-5708-4a93-85a6-01eb7683612e",
   "metadata": {},
   "outputs": [
    {
     "name": "stdout",
     "output_type": "stream",
     "text": [
      "Schema (column types):\n",
      "customerID           object\n",
      "gender               object\n",
      "SeniorCitizen         int64\n",
      "Partner              object\n",
      "Dependents           object\n",
      "tenure                int64\n",
      "PhoneService         object\n",
      "MultipleLines        object\n",
      "InternetService      object\n",
      "OnlineSecurity       object\n",
      "OnlineBackup         object\n",
      "DeviceProtection     object\n",
      "TechSupport          object\n",
      "StreamingTV          object\n",
      "StreamingMovies      object\n",
      "Contract             object\n",
      "PaperlessBilling     object\n",
      "PaymentMethod        object\n",
      "MonthlyCharges      float64\n",
      "TotalCharges         object\n",
      "Churn                object\n",
      "dtype: object\n",
      "\n",
      "Null values per column:\n",
      "customerID          0\n",
      "gender              0\n",
      "SeniorCitizen       0\n",
      "Partner             0\n",
      "Dependents          0\n",
      "tenure              0\n",
      "PhoneService        0\n",
      "MultipleLines       0\n",
      "InternetService     0\n",
      "OnlineSecurity      0\n",
      "OnlineBackup        0\n",
      "DeviceProtection    0\n",
      "TechSupport         0\n",
      "StreamingTV         0\n",
      "StreamingMovies     0\n",
      "Contract            0\n",
      "PaperlessBilling    0\n",
      "PaymentMethod       0\n",
      "MonthlyCharges      0\n",
      "TotalCharges        0\n",
      "Churn               0\n",
      "dtype: int64\n"
     ]
    }
   ],
   "source": [
    "print(\"Schema (column types):\")\n",
    "print(df.dtypes)\n",
    "\n",
    "print(\"\\nNull values per column:\")\n",
    "print(df.isnull().sum())"
   ]
  },
  {
   "cell_type": "code",
   "execution_count": 151,
   "id": "a48cdc3d-f09e-4270-a405-ea2f09a913d6",
   "metadata": {},
   "outputs": [
    {
     "name": "stdout",
     "output_type": "stream",
     "text": [
      "📦 File checksum (MD5): 0f9de68e012bd3aed5fa7cdc9fc421af\n"
     ]
    }
   ],
   "source": [
    "with open(file_path, \"rb\") as f:\n",
    "    file_hash = hashlib.md5(f.read()).hexdigest()\n",
    "\n",
    "print(\"📦 File checksum (MD5):\", file_hash)\n",
    "\n",
    "# This code calculates and displays a unique MD5 checksum (fingerprint) for any file — useful for:\n",
    "# Verifying file integrity\n",
    "# Detecting file changes or corruption\n",
    "# Comparing two files to see if they are identical\n",
    "# If you change even one character in the file, this hash will change completely."
   ]
  },
  {
   "cell_type": "code",
   "execution_count": 152,
   "id": "3a34a1da-de63-4bbe-9009-42a08b3cb851",
   "metadata": {},
   "outputs": [
    {
     "name": "stdout",
     "output_type": "stream",
     "text": [
      "✅ Processed file saved at: C:\\Users\\kansa\\ChurnPrediction\\Processed\\telco_raw.csv\n"
     ]
    }
   ],
   "source": [
    "processed_path = r\"C:\\Users\\kansa\\ChurnPrediction\\Processed\\telco_raw.csv\"\n",
    "df.to_csv(processed_path, index=False)\n",
    "print(f\"✅ Processed file saved at: {processed_path}\")"
   ]
  },
  {
   "cell_type": "code",
   "execution_count": 153,
   "id": "5880ec68-01d2-4a33-b6ad-d91cb832974e",
   "metadata": {},
   "outputs": [
    {
     "name": "stdout",
     "output_type": "stream",
     "text": [
      "✅ Data saved to SQLite (table: telco_raw)\n"
     ]
    }
   ],
   "source": [
    "import os\n",
    "from sqlalchemy import create_engine\n",
    "\n",
    "# Ensure folder exists\n",
    "os.makedirs(\"data\", exist_ok=True)\n",
    "\n",
    "engine = create_engine(\"sqlite:///data/telco.db\")\n",
    "df.to_sql(\"telco_raw\", engine, if_exists=\"replace\", index=False)\n",
    "\n",
    "print(\"✅ Data saved to SQLite (table: telco_raw)\")"
   ]
  },
  {
   "cell_type": "code",
   "execution_count": 154,
   "id": "28d0ceeb-f87f-460a-87ab-375dd2be5662",
   "metadata": {},
   "outputs": [
    {
     "name": "stdout",
     "output_type": "stream",
     "text": [
      "📊 Summary:\n",
      "Total rows: 7043\n",
      "Columns: 21\n",
      "Checksum: 0f9de68e012bd3aed5fa7cdc9fc421af\n"
     ]
    }
   ],
   "source": [
    "print(\"📊 Summary:\")\n",
    "print(f\"Total rows: {len(df)}\")\n",
    "print(f\"Columns: {len(df.columns)}\")\n",
    "print(\"Checksum:\", file_hash)"
   ]
  },
  {
   "cell_type": "code",
   "execution_count": 155,
   "id": "7b5b4215-2913-4b54-b786-1d6b06fb6b44",
   "metadata": {},
   "outputs": [
    {
     "name": "stdout",
     "output_type": "stream",
     "text": [
      "\n",
      "Sample 5 rows from SQLite:\n",
      "   customerID  gender  SeniorCitizen Partner Dependents  tenure PhoneService  \\\n",
      "0  7590-VHVEG  Female              0     Yes         No       1           No   \n",
      "1  5575-GNVDE    Male              0      No         No      34          Yes   \n",
      "2  3668-QPYBK    Male              0      No         No       2          Yes   \n",
      "3  7795-CFOCW    Male              0      No         No      45           No   \n",
      "4  9237-HQITU  Female              0      No         No       2          Yes   \n",
      "\n",
      "      MultipleLines InternetService OnlineSecurity  ... DeviceProtection  \\\n",
      "0  No phone service             DSL             No  ...               No   \n",
      "1                No             DSL            Yes  ...              Yes   \n",
      "2                No             DSL            Yes  ...               No   \n",
      "3  No phone service             DSL            Yes  ...              Yes   \n",
      "4                No     Fiber optic             No  ...               No   \n",
      "\n",
      "  TechSupport StreamingTV StreamingMovies        Contract PaperlessBilling  \\\n",
      "0          No          No              No  Month-to-month              Yes   \n",
      "1          No          No              No        One year               No   \n",
      "2          No          No              No  Month-to-month              Yes   \n",
      "3         Yes          No              No        One year               No   \n",
      "4          No          No              No  Month-to-month              Yes   \n",
      "\n",
      "               PaymentMethod MonthlyCharges  TotalCharges Churn  \n",
      "0           Electronic check          29.85         29.85    No  \n",
      "1               Mailed check          56.95        1889.5    No  \n",
      "2               Mailed check          53.85        108.15   Yes  \n",
      "3  Bank transfer (automatic)          42.30       1840.75    No  \n",
      "4           Electronic check          70.70        151.65   Yes  \n",
      "\n",
      "[5 rows x 21 columns]\n"
     ]
    }
   ],
   "source": [
    "sample_df = pd.read_sql(\"SELECT * FROM telco_raw LIMIT 5\", engine)\n",
    "print(\"\\nSample 5 rows from SQLite:\")\n",
    "print(sample_df)"
   ]
  },
  {
   "cell_type": "markdown",
   "id": "6f9c6ce8-bf0d-4f5f-a2a1-88f65d2dff01",
   "metadata": {},
   "source": [
    "# Data cleaning & preprocessing"
   ]
  },
  {
   "cell_type": "code",
   "execution_count": 156,
   "id": "bc65b9b4-663c-48e6-b824-1fc18e0556c1",
   "metadata": {},
   "outputs": [],
   "source": [
    "# errors='coerce' → invalid parsing will be set as NaN (Not a Number) instead of raising an error.\n",
    "# errors='ignore' → leaves the invalid values as-is.\n",
    "# errors='raise' (default) → raises an exception if there’s any invalid data.\n",
    "df['TotalCharges'] = pd.to_numeric(df['TotalCharges'], errors='coerce')"
   ]
  },
  {
   "cell_type": "code",
   "execution_count": 157,
   "id": "9a2ce7db-279c-4bf1-b2df-4d13af33bbfb",
   "metadata": {},
   "outputs": [
    {
     "name": "stdout",
     "output_type": "stream",
     "text": [
      "Shape before dropping duplicates: (7043, 21)\n",
      "Shape after dropping duplicates: (7043, 21)\n"
     ]
    }
   ],
   "source": [
    "print(\"Shape before dropping duplicates:\", df.shape)\n",
    "df = df.drop_duplicates(subset='customerID')\n",
    "print(\"Shape after dropping duplicates:\", df.shape)"
   ]
  },
  {
   "cell_type": "code",
   "execution_count": 158,
   "id": "5778ff26-b6c0-48e0-b763-bfd6768293ee",
   "metadata": {},
   "outputs": [],
   "source": [
    "binary_cols=['Partner', 'Dependents', 'PhoneService', 'PaperlessBilling', 'Churn']\n",
    "for col in binary_cols:\n",
    "    df[col]=df[col].map({'Yes':1,'No':0})"
   ]
  },
  {
   "cell_type": "code",
   "execution_count": 159,
   "id": "e60c8b66-21a0-419f-8d9e-9eb7b17c3bfa",
   "metadata": {},
   "outputs": [
    {
     "data": {
      "text/html": [
       "<div>\n",
       "<style scoped>\n",
       "    .dataframe tbody tr th:only-of-type {\n",
       "        vertical-align: middle;\n",
       "    }\n",
       "\n",
       "    .dataframe tbody tr th {\n",
       "        vertical-align: top;\n",
       "    }\n",
       "\n",
       "    .dataframe thead th {\n",
       "        text-align: right;\n",
       "    }\n",
       "</style>\n",
       "<table border=\"1\" class=\"dataframe\">\n",
       "  <thead>\n",
       "    <tr style=\"text-align: right;\">\n",
       "      <th></th>\n",
       "      <th>customerID</th>\n",
       "      <th>gender</th>\n",
       "      <th>SeniorCitizen</th>\n",
       "      <th>Partner</th>\n",
       "      <th>Dependents</th>\n",
       "      <th>tenure</th>\n",
       "      <th>PhoneService</th>\n",
       "      <th>MultipleLines</th>\n",
       "      <th>InternetService</th>\n",
       "      <th>OnlineSecurity</th>\n",
       "      <th>...</th>\n",
       "      <th>DeviceProtection</th>\n",
       "      <th>TechSupport</th>\n",
       "      <th>StreamingTV</th>\n",
       "      <th>StreamingMovies</th>\n",
       "      <th>Contract</th>\n",
       "      <th>PaperlessBilling</th>\n",
       "      <th>PaymentMethod</th>\n",
       "      <th>MonthlyCharges</th>\n",
       "      <th>TotalCharges</th>\n",
       "      <th>Churn</th>\n",
       "    </tr>\n",
       "  </thead>\n",
       "  <tbody>\n",
       "    <tr>\n",
       "      <th>0</th>\n",
       "      <td>7590-VHVEG</td>\n",
       "      <td>Female</td>\n",
       "      <td>0</td>\n",
       "      <td>1</td>\n",
       "      <td>0</td>\n",
       "      <td>1</td>\n",
       "      <td>0</td>\n",
       "      <td>No phone service</td>\n",
       "      <td>DSL</td>\n",
       "      <td>No</td>\n",
       "      <td>...</td>\n",
       "      <td>No</td>\n",
       "      <td>No</td>\n",
       "      <td>No</td>\n",
       "      <td>No</td>\n",
       "      <td>Month-to-month</td>\n",
       "      <td>1</td>\n",
       "      <td>Electronic check</td>\n",
       "      <td>29.85</td>\n",
       "      <td>29.85</td>\n",
       "      <td>0</td>\n",
       "    </tr>\n",
       "    <tr>\n",
       "      <th>1</th>\n",
       "      <td>5575-GNVDE</td>\n",
       "      <td>Male</td>\n",
       "      <td>0</td>\n",
       "      <td>0</td>\n",
       "      <td>0</td>\n",
       "      <td>34</td>\n",
       "      <td>1</td>\n",
       "      <td>No</td>\n",
       "      <td>DSL</td>\n",
       "      <td>Yes</td>\n",
       "      <td>...</td>\n",
       "      <td>Yes</td>\n",
       "      <td>No</td>\n",
       "      <td>No</td>\n",
       "      <td>No</td>\n",
       "      <td>One year</td>\n",
       "      <td>0</td>\n",
       "      <td>Mailed check</td>\n",
       "      <td>56.95</td>\n",
       "      <td>1889.50</td>\n",
       "      <td>0</td>\n",
       "    </tr>\n",
       "    <tr>\n",
       "      <th>2</th>\n",
       "      <td>3668-QPYBK</td>\n",
       "      <td>Male</td>\n",
       "      <td>0</td>\n",
       "      <td>0</td>\n",
       "      <td>0</td>\n",
       "      <td>2</td>\n",
       "      <td>1</td>\n",
       "      <td>No</td>\n",
       "      <td>DSL</td>\n",
       "      <td>Yes</td>\n",
       "      <td>...</td>\n",
       "      <td>No</td>\n",
       "      <td>No</td>\n",
       "      <td>No</td>\n",
       "      <td>No</td>\n",
       "      <td>Month-to-month</td>\n",
       "      <td>1</td>\n",
       "      <td>Mailed check</td>\n",
       "      <td>53.85</td>\n",
       "      <td>108.15</td>\n",
       "      <td>1</td>\n",
       "    </tr>\n",
       "    <tr>\n",
       "      <th>3</th>\n",
       "      <td>7795-CFOCW</td>\n",
       "      <td>Male</td>\n",
       "      <td>0</td>\n",
       "      <td>0</td>\n",
       "      <td>0</td>\n",
       "      <td>45</td>\n",
       "      <td>0</td>\n",
       "      <td>No phone service</td>\n",
       "      <td>DSL</td>\n",
       "      <td>Yes</td>\n",
       "      <td>...</td>\n",
       "      <td>Yes</td>\n",
       "      <td>Yes</td>\n",
       "      <td>No</td>\n",
       "      <td>No</td>\n",
       "      <td>One year</td>\n",
       "      <td>0</td>\n",
       "      <td>Bank transfer (automatic)</td>\n",
       "      <td>42.30</td>\n",
       "      <td>1840.75</td>\n",
       "      <td>0</td>\n",
       "    </tr>\n",
       "    <tr>\n",
       "      <th>4</th>\n",
       "      <td>9237-HQITU</td>\n",
       "      <td>Female</td>\n",
       "      <td>0</td>\n",
       "      <td>0</td>\n",
       "      <td>0</td>\n",
       "      <td>2</td>\n",
       "      <td>1</td>\n",
       "      <td>No</td>\n",
       "      <td>Fiber optic</td>\n",
       "      <td>No</td>\n",
       "      <td>...</td>\n",
       "      <td>No</td>\n",
       "      <td>No</td>\n",
       "      <td>No</td>\n",
       "      <td>No</td>\n",
       "      <td>Month-to-month</td>\n",
       "      <td>1</td>\n",
       "      <td>Electronic check</td>\n",
       "      <td>70.70</td>\n",
       "      <td>151.65</td>\n",
       "      <td>1</td>\n",
       "    </tr>\n",
       "  </tbody>\n",
       "</table>\n",
       "<p>5 rows × 21 columns</p>\n",
       "</div>"
      ],
      "text/plain": [
       "   customerID  gender  SeniorCitizen  Partner  Dependents  tenure  \\\n",
       "0  7590-VHVEG  Female              0        1           0       1   \n",
       "1  5575-GNVDE    Male              0        0           0      34   \n",
       "2  3668-QPYBK    Male              0        0           0       2   \n",
       "3  7795-CFOCW    Male              0        0           0      45   \n",
       "4  9237-HQITU  Female              0        0           0       2   \n",
       "\n",
       "   PhoneService     MultipleLines InternetService OnlineSecurity  ...  \\\n",
       "0             0  No phone service             DSL             No  ...   \n",
       "1             1                No             DSL            Yes  ...   \n",
       "2             1                No             DSL            Yes  ...   \n",
       "3             0  No phone service             DSL            Yes  ...   \n",
       "4             1                No     Fiber optic             No  ...   \n",
       "\n",
       "  DeviceProtection TechSupport StreamingTV StreamingMovies        Contract  \\\n",
       "0               No          No          No              No  Month-to-month   \n",
       "1              Yes          No          No              No        One year   \n",
       "2               No          No          No              No  Month-to-month   \n",
       "3              Yes         Yes          No              No        One year   \n",
       "4               No          No          No              No  Month-to-month   \n",
       "\n",
       "  PaperlessBilling              PaymentMethod MonthlyCharges  TotalCharges  \\\n",
       "0                1           Electronic check          29.85         29.85   \n",
       "1                0               Mailed check          56.95       1889.50   \n",
       "2                1               Mailed check          53.85        108.15   \n",
       "3                0  Bank transfer (automatic)          42.30       1840.75   \n",
       "4                1           Electronic check          70.70        151.65   \n",
       "\n",
       "   Churn  \n",
       "0      0  \n",
       "1      0  \n",
       "2      1  \n",
       "3      0  \n",
       "4      1  \n",
       "\n",
       "[5 rows x 21 columns]"
      ]
     },
     "execution_count": 159,
     "metadata": {},
     "output_type": "execute_result"
    }
   ],
   "source": [
    "df.head()"
   ]
  },
  {
   "cell_type": "code",
   "execution_count": 160,
   "id": "0ed3b908-43e0-452e-83e9-d6055adf9536",
   "metadata": {},
   "outputs": [],
   "source": [
    "cat_cols = ['gender', 'MultipleLines', 'InternetService', 'OnlineSecurity', \n",
    "            'OnlineBackup', 'DeviceProtection', 'TechSupport', 'StreamingTV', \n",
    "            'StreamingMovies', 'Contract', 'PaymentMethod']\n",
    "\n",
    "for col in cat_cols:\n",
    "    df[col] = df[col].astype('category')\n"
   ]
  },
  {
   "cell_type": "code",
   "execution_count": 161,
   "id": "79f20d15-da7b-4e3c-88a6-489417827e3a",
   "metadata": {},
   "outputs": [
    {
     "name": "stdout",
     "output_type": "stream",
     "text": [
      "customerID            object\n",
      "gender              category\n",
      "SeniorCitizen          int64\n",
      "Partner                int64\n",
      "Dependents             int64\n",
      "tenure                 int64\n",
      "PhoneService           int64\n",
      "MultipleLines       category\n",
      "InternetService     category\n",
      "OnlineSecurity      category\n",
      "OnlineBackup        category\n",
      "DeviceProtection    category\n",
      "TechSupport         category\n",
      "StreamingTV         category\n",
      "StreamingMovies     category\n",
      "Contract            category\n",
      "PaperlessBilling       int64\n",
      "PaymentMethod       category\n",
      "MonthlyCharges       float64\n",
      "TotalCharges         float64\n",
      "Churn                  int64\n",
      "dtype: object\n"
     ]
    }
   ],
   "source": [
    "print(df.dtypes)"
   ]
  },
  {
   "cell_type": "code",
   "execution_count": 162,
   "id": "c3e72e7b-034f-4861-a00d-a27c39b459d6",
   "metadata": {},
   "outputs": [],
   "source": [
    "bins = [0, 12, 24, 48, 60, 72]\n",
    "labels = ['0-12','12-24','24-48','48-60','60-72']\n",
    "df['tenure_group'] = pd.cut(df['tenure'], bins=bins, labels=labels)\n"
   ]
  },
  {
   "cell_type": "code",
   "execution_count": 163,
   "id": "5f86001d-ce6b-499e-b7c4-19344fdd965b",
   "metadata": {},
   "outputs": [
    {
     "data": {
      "text/html": [
       "<div>\n",
       "<style scoped>\n",
       "    .dataframe tbody tr th:only-of-type {\n",
       "        vertical-align: middle;\n",
       "    }\n",
       "\n",
       "    .dataframe tbody tr th {\n",
       "        vertical-align: top;\n",
       "    }\n",
       "\n",
       "    .dataframe thead th {\n",
       "        text-align: right;\n",
       "    }\n",
       "</style>\n",
       "<table border=\"1\" class=\"dataframe\">\n",
       "  <thead>\n",
       "    <tr style=\"text-align: right;\">\n",
       "      <th></th>\n",
       "      <th>customerID</th>\n",
       "      <th>gender</th>\n",
       "      <th>SeniorCitizen</th>\n",
       "      <th>Partner</th>\n",
       "      <th>Dependents</th>\n",
       "      <th>tenure</th>\n",
       "      <th>PhoneService</th>\n",
       "      <th>MultipleLines</th>\n",
       "      <th>InternetService</th>\n",
       "      <th>OnlineSecurity</th>\n",
       "      <th>...</th>\n",
       "      <th>TechSupport</th>\n",
       "      <th>StreamingTV</th>\n",
       "      <th>StreamingMovies</th>\n",
       "      <th>Contract</th>\n",
       "      <th>PaperlessBilling</th>\n",
       "      <th>PaymentMethod</th>\n",
       "      <th>MonthlyCharges</th>\n",
       "      <th>TotalCharges</th>\n",
       "      <th>Churn</th>\n",
       "      <th>tenure_group</th>\n",
       "    </tr>\n",
       "  </thead>\n",
       "  <tbody>\n",
       "    <tr>\n",
       "      <th>0</th>\n",
       "      <td>7590-VHVEG</td>\n",
       "      <td>Female</td>\n",
       "      <td>0</td>\n",
       "      <td>1</td>\n",
       "      <td>0</td>\n",
       "      <td>1</td>\n",
       "      <td>0</td>\n",
       "      <td>No phone service</td>\n",
       "      <td>DSL</td>\n",
       "      <td>No</td>\n",
       "      <td>...</td>\n",
       "      <td>No</td>\n",
       "      <td>No</td>\n",
       "      <td>No</td>\n",
       "      <td>Month-to-month</td>\n",
       "      <td>1</td>\n",
       "      <td>Electronic check</td>\n",
       "      <td>29.85</td>\n",
       "      <td>29.85</td>\n",
       "      <td>0</td>\n",
       "      <td>0-12</td>\n",
       "    </tr>\n",
       "    <tr>\n",
       "      <th>1</th>\n",
       "      <td>5575-GNVDE</td>\n",
       "      <td>Male</td>\n",
       "      <td>0</td>\n",
       "      <td>0</td>\n",
       "      <td>0</td>\n",
       "      <td>34</td>\n",
       "      <td>1</td>\n",
       "      <td>No</td>\n",
       "      <td>DSL</td>\n",
       "      <td>Yes</td>\n",
       "      <td>...</td>\n",
       "      <td>No</td>\n",
       "      <td>No</td>\n",
       "      <td>No</td>\n",
       "      <td>One year</td>\n",
       "      <td>0</td>\n",
       "      <td>Mailed check</td>\n",
       "      <td>56.95</td>\n",
       "      <td>1889.50</td>\n",
       "      <td>0</td>\n",
       "      <td>24-48</td>\n",
       "    </tr>\n",
       "    <tr>\n",
       "      <th>2</th>\n",
       "      <td>3668-QPYBK</td>\n",
       "      <td>Male</td>\n",
       "      <td>0</td>\n",
       "      <td>0</td>\n",
       "      <td>0</td>\n",
       "      <td>2</td>\n",
       "      <td>1</td>\n",
       "      <td>No</td>\n",
       "      <td>DSL</td>\n",
       "      <td>Yes</td>\n",
       "      <td>...</td>\n",
       "      <td>No</td>\n",
       "      <td>No</td>\n",
       "      <td>No</td>\n",
       "      <td>Month-to-month</td>\n",
       "      <td>1</td>\n",
       "      <td>Mailed check</td>\n",
       "      <td>53.85</td>\n",
       "      <td>108.15</td>\n",
       "      <td>1</td>\n",
       "      <td>0-12</td>\n",
       "    </tr>\n",
       "    <tr>\n",
       "      <th>3</th>\n",
       "      <td>7795-CFOCW</td>\n",
       "      <td>Male</td>\n",
       "      <td>0</td>\n",
       "      <td>0</td>\n",
       "      <td>0</td>\n",
       "      <td>45</td>\n",
       "      <td>0</td>\n",
       "      <td>No phone service</td>\n",
       "      <td>DSL</td>\n",
       "      <td>Yes</td>\n",
       "      <td>...</td>\n",
       "      <td>Yes</td>\n",
       "      <td>No</td>\n",
       "      <td>No</td>\n",
       "      <td>One year</td>\n",
       "      <td>0</td>\n",
       "      <td>Bank transfer (automatic)</td>\n",
       "      <td>42.30</td>\n",
       "      <td>1840.75</td>\n",
       "      <td>0</td>\n",
       "      <td>24-48</td>\n",
       "    </tr>\n",
       "    <tr>\n",
       "      <th>4</th>\n",
       "      <td>9237-HQITU</td>\n",
       "      <td>Female</td>\n",
       "      <td>0</td>\n",
       "      <td>0</td>\n",
       "      <td>0</td>\n",
       "      <td>2</td>\n",
       "      <td>1</td>\n",
       "      <td>No</td>\n",
       "      <td>Fiber optic</td>\n",
       "      <td>No</td>\n",
       "      <td>...</td>\n",
       "      <td>No</td>\n",
       "      <td>No</td>\n",
       "      <td>No</td>\n",
       "      <td>Month-to-month</td>\n",
       "      <td>1</td>\n",
       "      <td>Electronic check</td>\n",
       "      <td>70.70</td>\n",
       "      <td>151.65</td>\n",
       "      <td>1</td>\n",
       "      <td>0-12</td>\n",
       "    </tr>\n",
       "  </tbody>\n",
       "</table>\n",
       "<p>5 rows × 22 columns</p>\n",
       "</div>"
      ],
      "text/plain": [
       "   customerID  gender  SeniorCitizen  Partner  Dependents  tenure  \\\n",
       "0  7590-VHVEG  Female              0        1           0       1   \n",
       "1  5575-GNVDE    Male              0        0           0      34   \n",
       "2  3668-QPYBK    Male              0        0           0       2   \n",
       "3  7795-CFOCW    Male              0        0           0      45   \n",
       "4  9237-HQITU  Female              0        0           0       2   \n",
       "\n",
       "   PhoneService     MultipleLines InternetService OnlineSecurity  ...  \\\n",
       "0             0  No phone service             DSL             No  ...   \n",
       "1             1                No             DSL            Yes  ...   \n",
       "2             1                No             DSL            Yes  ...   \n",
       "3             0  No phone service             DSL            Yes  ...   \n",
       "4             1                No     Fiber optic             No  ...   \n",
       "\n",
       "  TechSupport StreamingTV StreamingMovies        Contract PaperlessBilling  \\\n",
       "0          No          No              No  Month-to-month                1   \n",
       "1          No          No              No        One year                0   \n",
       "2          No          No              No  Month-to-month                1   \n",
       "3         Yes          No              No        One year                0   \n",
       "4          No          No              No  Month-to-month                1   \n",
       "\n",
       "               PaymentMethod  MonthlyCharges TotalCharges  Churn  tenure_group  \n",
       "0           Electronic check           29.85        29.85      0          0-12  \n",
       "1               Mailed check           56.95      1889.50      0         24-48  \n",
       "2               Mailed check           53.85       108.15      1          0-12  \n",
       "3  Bank transfer (automatic)           42.30      1840.75      0         24-48  \n",
       "4           Electronic check           70.70       151.65      1          0-12  \n",
       "\n",
       "[5 rows x 22 columns]"
      ]
     },
     "execution_count": 163,
     "metadata": {},
     "output_type": "execute_result"
    }
   ],
   "source": [
    "df.head()"
   ]
  },
  {
   "cell_type": "code",
   "execution_count": 164,
   "id": "d53ce2fc-c04f-45eb-916a-6e491dccb6bc",
   "metadata": {},
   "outputs": [],
   "source": [
    "# # Columns to OHE\n",
    "# ohe_cols = ['InternetService', 'Contract', 'PaymentMethod']\n",
    "# # Apply one-hot encoding\n",
    "# df_ohe = pd.get_dummies(df, columns=ohe_cols, drop_first=True)  # drop_first=True avoids dummy variable trap\n",
    "# Optionally OHE for non-binary categories (depending on model)"
   ]
  },
  {
   "cell_type": "code",
   "execution_count": 165,
   "id": "5f9492d2-3b6b-454d-a433-7683ced55dea",
   "metadata": {},
   "outputs": [
    {
     "name": "stdout",
     "output_type": "stream",
     "text": [
      "✅ Cleaned data saved at: C:\\Users\\kansa\\ChurnPrediction\\Processed\\telco_cleaned.csv\n",
      "✅ Cleaned data updated in SQLite (table: telco_cleaned)\n"
     ]
    }
   ],
   "source": [
    "cleaned_path = r\"C:\\Users\\kansa\\ChurnPrediction\\Processed\\telco_cleaned.csv\"\n",
    "df.to_csv(cleaned_path, index=False)\n",
    "print(f\"✅ Cleaned data saved at: {cleaned_path}\")\n",
    "\n",
    "# Update SQLite table\n",
    "df.to_sql(\"telco_cleaned\", engine, if_exists=\"replace\", index=False)\n",
    "print(\"✅ Cleaned data updated in SQLite (table: telco_cleaned)\")\n"
   ]
  },
  {
   "cell_type": "markdown",
   "id": "9fc306c7-2b88-4bb6-80d5-db8abddd3247",
   "metadata": {},
   "source": [
    "# Exploratory Data Analysis & KPIs"
   ]
  },
  {
   "cell_type": "code",
   "execution_count": 166,
   "id": "4d010cc3-4375-4748-bf54-60e2971e412b",
   "metadata": {},
   "outputs": [
    {
     "data": {
      "text/plain": [
       "{'total_customers': 7043,\n",
       " 'churn_rate': 0.2653698707936959,\n",
       " 'avg_monthly_charge': 64.76169246059918,\n",
       " 'total_monthly_revenue': 456116.6,\n",
       " 'revenue_by_contract': {'Month-to-month': 66.39849032258064,\n",
       "  'One year': 65.04860828241684,\n",
       "  'Two year': 60.770412979351036},\n",
       " 'churn_by_contract': {'Month-to-month': 0.4270967741935484,\n",
       "  'One year': 0.11269517990495587,\n",
       "  'Two year': 0.02831858407079646},\n",
       " 'tenure_distribution': {'count': 7043.0,\n",
       "  'mean': 32.37114865824223,\n",
       "  'std': 24.55948102309423,\n",
       "  'min': 0.0,\n",
       "  '25%': 9.0,\n",
       "  '50%': 29.0,\n",
       "  '75%': 55.0,\n",
       "  'max': 72.0}}"
      ]
     },
     "execution_count": 166,
     "metadata": {},
     "output_type": "execute_result"
    }
   ],
   "source": [
    "cat_cols = ['gender', 'MultipleLines', 'InternetService', 'OnlineSecurity', \n",
    "            'OnlineBackup', 'DeviceProtection', 'TechSupport', 'StreamingTV', \n",
    "            'StreamingMovies', 'Contract', 'PaymentMethod']\n",
    "\n",
    "for col in cat_cols:\n",
    "    df[col] = df[col].astype('object')\n",
    "\n",
    "# Total customers\n",
    "total_customers = len(df)\n",
    "\n",
    "# Churn rate overall\n",
    "churn_rate = df['Churn'].mean()\n",
    "\n",
    "# Monthly revenue metrics\n",
    "avg_monthly_charge = df['MonthlyCharges'].mean()\n",
    "total_monthly_revenue = df['MonthlyCharges'].sum()\n",
    "\n",
    "# Revenue by contract type\n",
    "revenue_by_contract = df.groupby('Contract')['MonthlyCharges'].mean()\n",
    "\n",
    "# Churn by segment (Contract)\n",
    "churn_by_contract = df.groupby('Contract')['Churn'].mean()\n",
    "\n",
    "# Service adoption counts (StreamingTV, TechSupport, etc.)\n",
    "service_cols = ['StreamingTV', 'StreamingMovies', 'TechSupport', 'OnlineSecurity', 'OnlineBackup']\n",
    "service_adoption = df[service_cols].sum()\n",
    "\n",
    "# Tenure distribution\n",
    "tenure_distribution = df['tenure'].describe()\n",
    "\n",
    "# Store KPIs in a dict for quick reference\n",
    "kpis = {\n",
    "    \"total_customers\": total_customers,\n",
    "    \"churn_rate\": churn_rate,\n",
    "    \"avg_monthly_charge\": avg_monthly_charge,\n",
    "    \"total_monthly_revenue\": total_monthly_revenue,\n",
    "    \"revenue_by_contract\": revenue_by_contract.to_dict(),\n",
    "    \"churn_by_contract\": churn_by_contract.to_dict(),\n",
    "    # \"service_adoption\": service_adoption.to_dict(),\n",
    "    \"tenure_distribution\": tenure_distribution.to_dict()\n",
    "}\n",
    "\n",
    "kpis\n"
   ]
  },
  {
   "cell_type": "code",
   "execution_count": 167,
   "id": "48058699-62bb-4c27-8a09-3f541e41286a",
   "metadata": {},
   "outputs": [
    {
     "data": {
      "image/png": "[encoded data removed]",
      "text/plain": [
       "<Figure size 800x500 with 1 Axes>"
      ]
     },
     "metadata": {},
     "output_type": "display_data"
    }
   ],
   "source": [
    "import matplotlib.pyplot as plt\n",
    "import seaborn as sns\n",
    "\n",
    "plt.figure(figsize=(8,5))\n",
    "sns.histplot(df['tenure'], bins=30, kde=True)\n",
    "plt.title(\"Customer Tenure Distribution\")\n",
    "plt.xlabel(\"Tenure (months)\")\n",
    "plt.ylabel(\"Number of customers\")\n",
    "plt.show()\n"
   ]
  },
  {
   "cell_type": "code",
   "execution_count": 168,
   "id": "e8aab1da-f72e-400d-b805-3bd7ae4b53b1",
   "metadata": {},
   "outputs": [
    {
     "data": {
      "image/png": "[encoded data removed]",
      "text/plain": [
       "<Figure size 800x500 with 1 Axes>"
      ]
     },
     "metadata": {},
     "output_type": "display_data"
    }
   ],
   "source": [
    "churn_vs_service = df.groupby(['InternetService', 'Churn']).size().unstack()\n",
    "churn_vs_service.plot(kind='bar', stacked=True, figsize=(8,5))\n",
    "plt.title(\"Churn by Internet Service Type\")\n",
    "plt.ylabel(\"Number of Customers\")\n",
    "plt.show()\n"
   ]
  },
  {
   "cell_type": "code",
   "execution_count": 169,
   "id": "4fd7ea68-ad13-4c72-a8a9-d86269c4ae99",
   "metadata": {},
   "outputs": [],
   "source": [
    "# from ydata_profiling import ProfileReport\n",
    "# profile = ProfileReport(df, title=\"Telco Churn EDA\", explorative=True)\n",
    "# Option 1: Inline in notebook without widgets\n",
    "# profile.to_notebook_iframe()\n",
    "# Option 2: Save report to HTML\n",
    "# profile.to_file(\"telco_eda_report.html\")"
   ]
  },
  {
   "cell_type": "code",
   "execution_count": 170,
   "id": "126b3924-1ed8-41d9-9c0a-d62390eb1882",
   "metadata": {},
   "outputs": [],
   "source": [
    "# pandas_profiling → auto-report of dataset stats, correlations, missing values.\n",
    "# sweetviz → interactive comparison & report\n",
    "# !pip install sweetviz\n",
    "# import sweetviz as sv\n",
    "# report = sv.analyze(df)\n",
    "# report.show_html(\"telco_sweetviz_report.html\")\n"
   ]
  },
  {
   "cell_type": "markdown",
   "id": "c2c9f14c-524a-47ea-a678-cceac4969182",
   "metadata": {},
   "source": [
    "# Feature engineering"
   ]
  },
  {
   "cell_type": "code",
   "execution_count": 171,
   "id": "72790de4-d369-40d5-9032-442f47468ea8",
   "metadata": {},
   "outputs": [
    {
     "name": "stdout",
     "output_type": "stream",
     "text": [
      "PhoneService unique values: [0 1]\n",
      "OnlineSecurity unique values: ['No' 'Yes' 'No internet service']\n",
      "OnlineBackup unique values: ['Yes' 'No' 'No internet service']\n",
      "DeviceProtection unique values: ['No' 'Yes' 'No internet service']\n",
      "TechSupport unique values: ['No' 'Yes' 'No internet service']\n",
      "StreamingTV unique values: ['No' 'Yes' 'No internet service']\n",
      "StreamingMovies unique values: ['No' 'Yes' 'No internet service']\n"
     ]
    }
   ],
   "source": [
    "service_cols = [\n",
    "    'PhoneService','OnlineSecurity','OnlineBackup','DeviceProtection',\n",
    "    'TechSupport','StreamingTV','StreamingMovies'\n",
    "]\n",
    "\n",
    "for col in service_cols:\n",
    "    print(f\"{col} unique values: {df[col].unique()}\")\n"
   ]
  },
  {
   "cell_type": "code",
   "execution_count": 172,
   "id": "caedc9d3-66f1-4900-bbf4-bc58fac5cfed",
   "metadata": {},
   "outputs": [
    {
     "data": {
      "text/html": [
       "<div>\n",
       "<style scoped>\n",
       "    .dataframe tbody tr th:only-of-type {\n",
       "        vertical-align: middle;\n",
       "    }\n",
       "\n",
       "    .dataframe tbody tr th {\n",
       "        vertical-align: top;\n",
       "    }\n",
       "\n",
       "    .dataframe thead th {\n",
       "        text-align: right;\n",
       "    }\n",
       "</style>\n",
       "<table border=\"1\" class=\"dataframe\">\n",
       "  <thead>\n",
       "    <tr style=\"text-align: right;\">\n",
       "      <th></th>\n",
       "      <th>PhoneService</th>\n",
       "      <th>OnlineSecurity</th>\n",
       "      <th>OnlineBackup</th>\n",
       "      <th>DeviceProtection</th>\n",
       "      <th>TechSupport</th>\n",
       "      <th>StreamingTV</th>\n",
       "      <th>StreamingMovies</th>\n",
       "      <th>num_services</th>\n",
       "    </tr>\n",
       "  </thead>\n",
       "  <tbody>\n",
       "    <tr>\n",
       "      <th>0</th>\n",
       "      <td>0</td>\n",
       "      <td>0</td>\n",
       "      <td>1</td>\n",
       "      <td>0</td>\n",
       "      <td>0</td>\n",
       "      <td>0</td>\n",
       "      <td>0</td>\n",
       "      <td>1</td>\n",
       "    </tr>\n",
       "    <tr>\n",
       "      <th>1</th>\n",
       "      <td>1</td>\n",
       "      <td>1</td>\n",
       "      <td>0</td>\n",
       "      <td>1</td>\n",
       "      <td>0</td>\n",
       "      <td>0</td>\n",
       "      <td>0</td>\n",
       "      <td>3</td>\n",
       "    </tr>\n",
       "    <tr>\n",
       "      <th>2</th>\n",
       "      <td>1</td>\n",
       "      <td>1</td>\n",
       "      <td>1</td>\n",
       "      <td>0</td>\n",
       "      <td>0</td>\n",
       "      <td>0</td>\n",
       "      <td>0</td>\n",
       "      <td>3</td>\n",
       "    </tr>\n",
       "    <tr>\n",
       "      <th>3</th>\n",
       "      <td>0</td>\n",
       "      <td>1</td>\n",
       "      <td>0</td>\n",
       "      <td>1</td>\n",
       "      <td>1</td>\n",
       "      <td>0</td>\n",
       "      <td>0</td>\n",
       "      <td>3</td>\n",
       "    </tr>\n",
       "    <tr>\n",
       "      <th>4</th>\n",
       "      <td>1</td>\n",
       "      <td>0</td>\n",
       "      <td>0</td>\n",
       "      <td>0</td>\n",
       "      <td>0</td>\n",
       "      <td>0</td>\n",
       "      <td>0</td>\n",
       "      <td>1</td>\n",
       "    </tr>\n",
       "  </tbody>\n",
       "</table>\n",
       "</div>"
      ],
      "text/plain": [
       "   PhoneService  OnlineSecurity  OnlineBackup  DeviceProtection  TechSupport  \\\n",
       "0             0               0             1                 0            0   \n",
       "1             1               1             0                 1            0   \n",
       "2             1               1             1                 0            0   \n",
       "3             0               1             0                 1            1   \n",
       "4             1               0             0                 0            0   \n",
       "\n",
       "   StreamingTV  StreamingMovies  num_services  \n",
       "0            0                0             1  \n",
       "1            0                0             3  \n",
       "2            0                0             3  \n",
       "3            0                0             3  \n",
       "4            0                0             1  "
      ]
     },
     "execution_count": 172,
     "metadata": {},
     "output_type": "execute_result"
    }
   ],
   "source": [
    "service_cols = [\n",
    "    'PhoneService','OnlineSecurity','OnlineBackup','DeviceProtection',\n",
    "    'TechSupport','StreamingTV','StreamingMovies'\n",
    "]\n",
    "\n",
    "# Map values: 'No internet service' or 'No' → 0, 'Yes' → 1\n",
    "df[service_cols] = df[service_cols].replace({\n",
    "    'No internet service': 0,\n",
    "    'No': 0,\n",
    "    'Yes': 1\n",
    "})\n",
    "\n",
    "# Ensure all columns are numeric (int)\n",
    "df[service_cols] = df[service_cols].astype(int)\n",
    "\n",
    "# Sum across services\n",
    "df['num_services'] = df[service_cols].sum(axis=1)\n",
    "\n",
    "# Check\n",
    "df[['PhoneService','OnlineSecurity','OnlineBackup','DeviceProtection',\n",
    "    'TechSupport','StreamingTV','StreamingMovies','num_services']].head()\n"
   ]
  },
  {
   "cell_type": "code",
   "execution_count": 173,
   "id": "acf2ce11-3681-48be-b399-2a063ed6ed34",
   "metadata": {},
   "outputs": [],
   "source": [
    "# Avoid divide-by-zero\n",
    "df['avg_monthly_ratio'] = df.apply(lambda row: row['TotalCharges']/row['tenure'] \n",
    "                                   if row['tenure']>0 else row['MonthlyCharges'], axis=1)\n"
   ]
  },
  {
   "cell_type": "code",
   "execution_count": 174,
   "id": "c839da0f-35b6-4fab-b56c-cda09a52d800",
   "metadata": {},
   "outputs": [],
   "source": [
    "df['is_senior_and_no_support'] = ((df['SeniorCitizen']==1) & (df['TechSupport']==0)).astype(int)\n"
   ]
  },
  {
   "cell_type": "code",
   "execution_count": 175,
   "id": "a5662296-e837-41cd-8aad-eab476a642be",
   "metadata": {},
   "outputs": [
    {
     "name": "stdout",
     "output_type": "stream",
     "text": [
      "✅ Feature-engineered dataset saved at C:\\Users\\kansa\\ChurnPrediction\\Processed/telco_features.csv\n"
     ]
    }
   ],
   "source": [
    "feature_path = r\"C:\\Users\\kansa\\ChurnPrediction\\Processed/telco_features.csv\"\n",
    "df.to_csv(feature_path, index=False)\n",
    "df.to_sql(\"telco_features\", engine, if_exists=\"replace\", index=False)\n",
    "print(f\"✅ Feature-engineered dataset saved at {feature_path}\")"
   ]
  },
  {
   "cell_type": "code",
   "execution_count": 176,
   "id": "366984d9-56ee-45c1-a793-0ecea3057a05",
   "metadata": {},
   "outputs": [
    {
     "name": "stdout",
     "output_type": "stream",
     "text": [
      "✅ Feature engineering summary:\n",
      "  tenure_group  num_services  avg_monthly_ratio  is_senior_and_no_support\n",
      "0         0-12             1          29.850000                         0\n",
      "1        24-48             3          55.573529                         0\n",
      "2         0-12             3          54.075000                         0\n",
      "3        24-48             3          40.905556                         0\n",
      "4         0-12             1          75.825000                         0\n"
     ]
    }
   ],
   "source": [
    "summary_features = df[['tenure_group','num_services','avg_monthly_ratio','is_senior_and_no_support']]\n",
    "\n",
    "print(\"✅ Feature engineering summary:\")\n",
    "print(summary_features.head())"
   ]
  },
  {
   "cell_type": "markdown",
   "id": "c756d416-871b-4d99-8183-08f45eaba7ff",
   "metadata": {},
   "source": [
    "# Predictive modeling (churn classification)"
   ]
  },
  {
   "cell_type": "code",
   "execution_count": 177,
   "id": "76369521-41ae-444b-a338-f2c9f29a12e9",
   "metadata": {},
   "outputs": [
    {
     "name": "stdout",
     "output_type": "stream",
     "text": [
      "customerID                   0\n",
      "gender                       0\n",
      "SeniorCitizen                0\n",
      "Partner                      0\n",
      "Dependents                   0\n",
      "tenure                       0\n",
      "PhoneService                 0\n",
      "MultipleLines                0\n",
      "InternetService              0\n",
      "OnlineSecurity               0\n",
      "OnlineBackup                 0\n",
      "DeviceProtection             0\n",
      "TechSupport                  0\n",
      "StreamingTV                  0\n",
      "StreamingMovies              0\n",
      "Contract                     0\n",
      "PaperlessBilling             0\n",
      "PaymentMethod                0\n",
      "MonthlyCharges               0\n",
      "TotalCharges                11\n",
      "Churn                        0\n",
      "tenure_group                11\n",
      "num_services                 0\n",
      "avg_monthly_ratio            0\n",
      "is_senior_and_no_support     0\n",
      "dtype: int64\n"
     ]
    }
   ],
   "source": [
    "print(df.isna().sum())"
   ]
  },
  {
   "cell_type": "code",
   "execution_count": 178,
   "id": "0727554e-fc6f-421f-9812-f0ede340071e",
   "metadata": {},
   "outputs": [
    {
     "name": "stdout",
     "output_type": "stream",
     "text": [
      "✅ Data ready: X_train shape: (5634, 5) X_test shape: (1409, 5)\n"
     ]
    }
   ],
   "source": [
    "from sklearn.model_selection import train_test_split\n",
    "from sklearn.preprocessing import StandardScaler\n",
    "from sklearn.compose import ColumnTransformer\n",
    "from sklearn.pipeline import Pipeline\n",
    "from sklearn.impute import SimpleImputer\n",
    "\n",
    "# Features and target\n",
    "X = df.drop(['customerID','Churn'], axis=1)\n",
    "y = df['Churn']\n",
    "\n",
    "# Define numeric and categorical columns\n",
    "numeric_cols = ['tenure','MonthlyCharges','TotalCharges','avg_monthly_ratio','num_services']\n",
    "categorical_cols = X.select_dtypes(include=['uint8', 'bool']).columns.tolist()  # already 0/1 encoded\n",
    "\n",
    "# Numeric transformer: impute missing values with median + scale\n",
    "numeric_transformer = Pipeline([\n",
    "    ('imputer', SimpleImputer(strategy='median')),\n",
    "    ('scaler', StandardScaler())\n",
    "])\n",
    "\n",
    "# Categorical transformer: impute missing values with most frequent value\n",
    "categorical_transformer = Pipeline([\n",
    "    ('imputer', SimpleImputer(strategy='most_frequent'))\n",
    "])\n",
    "\n",
    "# Combine transformers\n",
    "preprocessor = ColumnTransformer(\n",
    "    transformers=[\n",
    "        ('num', numeric_transformer, numeric_cols),\n",
    "        ('cat', categorical_transformer, categorical_cols)\n",
    "    ]\n",
    ")\n",
    "\n",
    "# Apply transformations\n",
    "X_processed = preprocessor.fit_transform(X)\n",
    "\n",
    "# Train/test split\n",
    "X_train, X_test, y_train, y_test = train_test_split(\n",
    "    X_processed, y, stratify=y, test_size=0.2, random_state=42\n",
    ")\n",
    "\n",
    "print(\"✅ Data ready: X_train shape:\", X_train.shape, \"X_test shape:\", X_test.shape)\n"
   ]
  },
  {
   "cell_type": "code",
   "execution_count": 179,
   "id": "b1edb39d-7944-440f-b4f6-71a3ab7d1c21",
   "metadata": {},
   "outputs": [
    {
     "name": "stdout",
     "output_type": "stream",
     "text": [
      "Logistic Regression Metrics:\n",
      "              precision    recall  f1-score   support\n",
      "\n",
      "           0       0.89      0.73      0.80      1035\n",
      "           1       0.50      0.75      0.60       374\n",
      "\n",
      "    accuracy                           0.74      1409\n",
      "   macro avg       0.70      0.74      0.70      1409\n",
      "weighted avg       0.79      0.74      0.75      1409\n",
      "\n",
      "ROC-AUC: 0.825589656152316\n"
     ]
    }
   ],
   "source": [
    "from sklearn.linear_model import LogisticRegression\n",
    "from sklearn.metrics import classification_report, roc_auc_score\n",
    "\n",
    "logreg = LogisticRegression(class_weight='balanced', max_iter=1000, random_state=42)\n",
    "logreg.fit(X_train, y_train)\n",
    "\n",
    "y_pred = logreg.predict(X_test)\n",
    "y_prob = logreg.predict_proba(X_test)[:,1]\n",
    "\n",
    "print(\"Logistic Regression Metrics:\")\n",
    "print(classification_report(y_test, y_pred))\n",
    "print(\"ROC-AUC:\", roc_auc_score(y_test, y_prob))\n"
   ]
  },
  {
   "cell_type": "code",
   "execution_count": 180,
   "id": "a2683106-011b-44d3-abbd-ec5e2f063538",
   "metadata": {},
   "outputs": [
    {
     "name": "stdout",
     "output_type": "stream",
     "text": [
      "✅ Logistic Regression trained successfully\n",
      "✅ Random Forest trained successfully\n"
     ]
    },
    {
     "name": "stderr",
     "output_type": "stream",
     "text": [
      "C:\\Users\\kansa\\anaconda3\\envs\\nlp_env\\lib\\site-packages\\xgboost\\training.py:183: UserWarning: [20:55:07] WARNING: C:\\actions-runner\\_work\\xgboost\\xgboost\\src\\learner.cc:738: \n",
      "Parameters: { \"use_label_encoder\" } are not used.\n",
      "\n",
      "  bst.update(dtrain, iteration=i, fobj=obj)\n"
     ]
    },
    {
     "name": "stdout",
     "output_type": "stream",
     "text": [
      "✅ XGBoost trained successfully\n"
     ]
    }
   ],
   "source": [
    "from sklearn.linear_model import LogisticRegression\n",
    "from sklearn.ensemble import RandomForestClassifier\n",
    "import xgboost as xgb\n",
    "\n",
    "# Define models\n",
    "models = {\n",
    "    \"Logistic Regression\": LogisticRegression(class_weight='balanced', max_iter=1000, random_state=42),\n",
    "    \"Random Forest\": RandomForestClassifier(n_estimators=200, class_weight='balanced', random_state=42),\n",
    "    \"XGBoost\": xgb.XGBClassifier(\n",
    "        n_estimators=200,\n",
    "        scale_pos_weight=(y_train==0).sum()/(y_train==1).sum(),\n",
    "        use_label_encoder=False,\n",
    "        eval_metric='logloss',\n",
    "        random_state=42\n",
    "    )\n",
    "}\n",
    "\n",
    "# Train models\n",
    "trained_models = {}\n",
    "for name, model in models.items():\n",
    "    model.fit(X_train, y_train)\n",
    "    trained_models[name] = model\n",
    "    print(f\"✅ {name} trained successfully\")\n"
   ]
  },
  {
   "cell_type": "code",
   "execution_count": 181,
   "id": "5a0eb57f-4049-4569-931b-6da465c81a33",
   "metadata": {},
   "outputs": [
    {
     "name": "stdout",
     "output_type": "stream",
     "text": [
      "\n",
      "--- Logistic Regression ---\n",
      "              precision    recall  f1-score   support\n",
      "\n",
      "           0       0.89      0.73      0.80      1035\n",
      "           1       0.50      0.75      0.60       374\n",
      "\n",
      "    accuracy                           0.74      1409\n",
      "   macro avg       0.70      0.74      0.70      1409\n",
      "weighted avg       0.79      0.74      0.75      1409\n",
      "\n",
      "ROC-AUC: 0.825589656152316\n"
     ]
    },
    {
     "data": {
      "image/png": "[encoded data removed]",
      "text/plain": [
       "<Figure size 640x480 with 2 Axes>"
      ]
     },
     "metadata": {},
     "output_type": "display_data"
    },
    {
     "data": {
      "image/png": "[encoded data removed]",
      "text/plain": [
       "<Figure size 640x480 with 1 Axes>"
      ]
     },
     "metadata": {},
     "output_type": "display_data"
    },
    {
     "name": "stdout",
     "output_type": "stream",
     "text": [
      "\n",
      "--- Random Forest ---\n",
      "              precision    recall  f1-score   support\n",
      "\n",
      "           0       0.82      0.87      0.85      1035\n",
      "           1       0.57      0.49      0.53       374\n",
      "\n",
      "    accuracy                           0.77      1409\n",
      "   macro avg       0.70      0.68      0.69      1409\n",
      "weighted avg       0.76      0.77      0.76      1409\n",
      "\n",
      "ROC-AUC: 0.7901999534991863\n"
     ]
    },
    {
     "data": {
      "image/png": "[encoded data removed]",
      "text/plain": [
       "<Figure size 640x480 with 2 Axes>"
      ]
     },
     "metadata": {},
     "output_type": "display_data"
    },
    {
     "data": {
      "image/png": "[encoded data removed]",
      "text/plain": [
       "<Figure size 640x480 with 1 Axes>"
      ]
     },
     "metadata": {},
     "output_type": "display_data"
    },
    {
     "name": "stdout",
     "output_type": "stream",
     "text": [
      "\n",
      "--- XGBoost ---\n",
      "              precision    recall  f1-score   support\n",
      "\n",
      "           0       0.86      0.79      0.82      1035\n",
      "           1       0.53      0.63      0.58       374\n",
      "\n",
      "    accuracy                           0.75      1409\n",
      "   macro avg       0.69      0.71      0.70      1409\n",
      "weighted avg       0.77      0.75      0.76      1409\n",
      "\n",
      "ROC-AUC: 0.7955798393138547\n"
     ]
    },
    {
     "data": {
      "image/png": "[encoded data removed]",
      "text/plain": [
       "<Figure size 640x480 with 2 Axes>"
      ]
     },
     "metadata": {},
     "output_type": "display_data"
    },
    {
     "data": {
      "image/png": "[encoded data removed]",
      "text/plain": [
       "<Figure size 640x480 with 1 Axes>"
      ]
     },
     "metadata": {},
     "output_type": "display_data"
    }
   ],
   "source": [
    "from sklearn.metrics import classification_report, roc_auc_score, confusion_matrix, ConfusionMatrixDisplay, precision_recall_curve\n",
    "import matplotlib.pyplot as plt\n",
    "\n",
    "for name, model in trained_models.items():\n",
    "    print(f\"\\n--- {name} ---\")\n",
    "    \n",
    "    # Predictions\n",
    "    y_pred = model.predict(X_test)\n",
    "    y_prob = model.predict_proba(X_test)[:,1]\n",
    "    \n",
    "    # Classification report\n",
    "    print(classification_report(y_test, y_pred))\n",
    "    \n",
    "    # ROC-AUC\n",
    "    print(\"ROC-AUC:\", roc_auc_score(y_test, y_prob))\n",
    "    \n",
    "    # Confusion Matrix\n",
    "    cm = confusion_matrix(y_test, y_pred)\n",
    "    disp = ConfusionMatrixDisplay(confusion_matrix=cm, display_labels=[0,1])\n",
    "    disp.plot()\n",
    "    plt.title(f\"{name} Confusion Matrix\")\n",
    "    plt.show()\n",
    "    \n",
    "    # Precision-Recall Curve\n",
    "    precision, recall, _ = precision_recall_curve(y_test, y_prob)\n",
    "    plt.plot(recall, precision, marker='.')\n",
    "    plt.xlabel('Recall')\n",
    "    plt.ylabel('Precision')\n",
    "    plt.title(f\"{name} Precision-Recall Curve\")\n",
    "    plt.show()\n"
   ]
  },
  {
   "cell_type": "code",
   "execution_count": 182,
   "id": "bebb6c70-970b-4ed2-b978-38ff2aaa75ac",
   "metadata": {},
   "outputs": [],
   "source": [
    "# from sklearn.ensemble import RandomForestClassifier\n",
    "\n",
    "# # Train Random Forest\n",
    "# rf = RandomForestClassifier(n_estimators=200, class_weight='balanced', random_state=42)\n",
    "# rf.fit(X_train, y_train)\n",
    "\n",
    "# # Predictions\n",
    "# y_pred_rf = rf.predict(X_test)\n",
    "# y_prob_rf = rf.predict_proba(X_test)[:,1]\n"
   ]
  },
  {
   "cell_type": "code",
   "execution_count": 183,
   "id": "ced3ec72-6815-4bf6-a721-2eb5d6ddc92d",
   "metadata": {},
   "outputs": [
    {
     "name": "stdout",
     "output_type": "stream",
     "text": [
      "Business implication (Random Forest): Retaining 317 predicted churners out of 1409 test customers could save approximately $20529.46 per month.\n"
     ]
    }
   ],
   "source": [
    "# Average monthly revenue per customer\n",
    "avg_revenue = df['MonthlyCharges'].mean()\n",
    "\n",
    "# Choose the model for business impact (e.g., Random Forest)\n",
    "model_name = \"Random Forest\"\n",
    "model = trained_models[model_name]\n",
    "\n",
    "# Predict on X_test\n",
    "y_pred = model.predict(X_test)\n",
    "\n",
    "# Number of predicted churners\n",
    "predicted_churners = (y_pred == 1).sum()\n",
    "total_customers_test = y_test.shape[0]\n",
    "\n",
    "# Estimated monthly revenue at risk / retention savings\n",
    "retention_savings = predicted_churners * avg_revenue\n",
    "\n",
    "print(f\"Business implication ({model_name}): Retaining {predicted_churners} predicted churners \"\n",
    "      f\"out of {total_customers_test} test customers could save approximately \"\n",
    "      f\"${retention_savings:.2f} per month.\")\n"
   ]
  },
  {
   "cell_type": "markdown",
   "id": "73ede838-09e8-4b64-becf-4c335b9e3586",
   "metadata": {},
   "source": [
    "# Experimentation & A/B (Hypothesis testing)"
   ]
  },
  {
   "cell_type": "markdown",
   "id": "64975fe8-60ed-4a2c-9bda-a292cc055b82",
   "metadata": {},
   "source": [
    "## 7A — Sample-size calculator (proportions)"
   ]
  },
  {
   "cell_type": "code",
   "execution_count": 184,
   "id": "067e42bb-ce85-46df-9f82-3078bf79525d",
   "metadata": {},
   "outputs": [
    {
     "name": "stdout",
     "output_type": "stream",
     "text": [
      "Required sample size per group: 2\n"
     ]
    }
   ],
   "source": [
    "from math import sqrt, ceil\n",
    "from scipy.stats import norm\n",
    "\n",
    "def sample_size_proportions(p1, p2, alpha=0.05, power=0.8):\n",
    "    \"\"\"\n",
    "    Calculates the required sample size per group for two-proportion A/B test.\n",
    "    \n",
    "    p1, p2 : expected proportions in control & treatment\n",
    "    alpha : significance level (default 0.05)\n",
    "    power : statistical power (default 0.8)\n",
    "    \"\"\"\n",
    "    pbar = 0.5*(p1 + p2)\n",
    "    za = norm.ppf(1-alpha/2)\n",
    "    zb = norm.ppf(power)\n",
    "    num = (za*sqrt(2*pbar*(1-pbar)) + zb*sqrt(p1*(1-p1) + p2*(1-p2)))**2\n",
    "    den = (p1 - p2)**2\n",
    "    return int(ceil(num))\n",
    "\n",
    "# Example usage\n",
    "required_n = sample_size_proportions(p1=0.10, p2=0.12)\n",
    "print(f\"Required sample size per group: {required_n}\")\n"
   ]
  },
  {
   "cell_type": "markdown",
   "id": "26c7b18e-2f0b-462d-a286-7dae0fcb8631",
   "metadata": {},
   "source": [
    "## 7B — Randomization & sanity checks"
   ]
  },
  {
   "cell_type": "code",
   "execution_count": 185,
   "id": "948b849a-3377-48e9-8b67-4fbabec573c5",
   "metadata": {},
   "outputs": [
    {
     "name": "stdout",
     "output_type": "stream",
     "text": [
      "Sample ratio:\n",
      " experiment_group\n",
      "treatment    0.511146\n",
      "control      0.488854\n",
      "Name: proportion, dtype: float64\n",
      "\n",
      "Pre-experiment balance check:\n",
      "tenure:\n",
      "experiment_group\n",
      "control      32.086262\n",
      "treatment    32.643611\n",
      "Name: tenure, dtype: float64\n",
      "\n",
      "MonthlyCharges:\n",
      "experiment_group\n",
      "control      64.189936\n",
      "treatment    65.308514\n",
      "Name: MonthlyCharges, dtype: float64\n",
      "\n",
      "TotalCharges:\n",
      "experiment_group\n",
      "control      2247.883023\n",
      "treatment    2317.219126\n",
      "Name: TotalCharges, dtype: float64\n",
      "\n"
     ]
    }
   ],
   "source": [
    "import pandas as pd\n",
    "import numpy as np\n",
    "import hashlib\n",
    "\n",
    "def assign_experiment(df, seed=42):\n",
    "    \"\"\"\n",
    "    Assign customers to treatment/control deterministically using hash of customerID.\n",
    "    \"\"\"\n",
    "    def hash_to_group(customerID):\n",
    "        h = int(hashlib.sha256(str(customerID).encode('utf-8')).hexdigest(), 16)\n",
    "        return 'treatment' if h % 2 == 0 else 'control'\n",
    "    \n",
    "    df['experiment_group'] = df['customerID'].apply(hash_to_group)\n",
    "    \n",
    "    # Check sample ratio\n",
    "    ratio = df['experiment_group'].value_counts(normalize=True)\n",
    "    print(\"Sample ratio:\\n\", ratio)\n",
    "    \n",
    "    return df\n",
    "\n",
    "# Pre-experiment balance check\n",
    "def balance_check(df, metrics):\n",
    "    \"\"\"\n",
    "    Check balance of key metrics between treatment and control\n",
    "    \"\"\"\n",
    "    print(\"\\nPre-experiment balance check:\")\n",
    "    for m in metrics:\n",
    "        mean_vals = df.groupby('experiment_group')[m].mean()\n",
    "        print(f\"{m}:\\n{mean_vals}\\n\")\n",
    "\n",
    "# Example usage\n",
    "df_exp = assign_experiment(df)\n",
    "balance_check(df_exp, ['tenure', 'MonthlyCharges', 'TotalCharges'])\n"
   ]
  },
  {
   "cell_type": "markdown",
   "id": "92534a84-3496-459e-9f8e-5ad9c6cf6d50",
   "metadata": {},
   "source": [
    "## 7C — Statistical tests (post-experiment)"
   ]
  },
  {
   "cell_type": "code",
   "execution_count": 186,
   "id": "043b3378-59d4-40cf-9954-e41f34e1dadc",
   "metadata": {},
   "outputs": [
    {
     "name": "stdout",
     "output_type": "stream",
     "text": [
      "Churn - z-stat: 0.8999, p-value: 0.3682\n"
     ]
    },
    {
     "data": {
      "text/plain": [
       "(0.8999005539500304, 0.36817317531592675)"
      ]
     },
     "execution_count": 186,
     "metadata": {},
     "output_type": "execute_result"
    }
   ],
   "source": [
    "import statsmodels.api as sm\n",
    "\n",
    "def proportion_test(df, metric='Churn', group_col='experiment_group'):\n",
    "    \"\"\"\n",
    "    Perform two-proportion z-test\n",
    "    \"\"\"\n",
    "    conv_treatment = df[df[group_col]=='treatment'][metric].sum()\n",
    "    conv_control = df[df[group_col]=='control'][metric].sum()\n",
    "    n_treatment = df[group_col].value_counts()['treatment']\n",
    "    n_control = df[group_col].value_counts()['control']\n",
    "    \n",
    "    count = np.array([conv_treatment, conv_control])\n",
    "    nobs = np.array([n_treatment, n_control])\n",
    "    stat, pval = sm.stats.proportions_ztest(count, nobs)\n",
    "    \n",
    "    print(f\"{metric} - z-stat: {stat:.4f}, p-value: {pval:.4f}\")\n",
    "    return stat, pval\n",
    "proportion_test(df)"
   ]
  },
  {
   "cell_type": "markdown",
   "id": "b9b303e5-a2c0-40ff-aa98-e3943483e497",
   "metadata": {},
   "source": [
    "## Bootstrap CI for continuous metrics (e.g., ARPU / MonthlyCharges)"
   ]
  },
  {
   "cell_type": "code",
   "execution_count": 187,
   "id": "cf624d4d-4e56-4809-b3bb-9719fd8aa3d4",
   "metadata": {},
   "outputs": [],
   "source": [
    "def bootstrap_diff(x, y, n_iter=5000, alpha=0.05):\n",
    "    diffs=[]\n",
    "    for _ in range(n_iter):\n",
    "        dx = np.random.choice(x, size=len(x), replace=True)\n",
    "        dy = np.random.choice(y, size=len(y), replace=True)\n",
    "        diffs.append(dx.mean()-dy.mean())\n",
    "    ci = np.percentile(diffs, [100*alpha/2, 100*(1-alpha/2)])\n",
    "    print(f\"Bootstrap {100*(1-alpha)}% CI: {ci}\")\n",
    "    return ci"
   ]
  },
  {
   "cell_type": "markdown",
   "id": "1a8937c4-d744-4f97-89d5-5619a42981be",
   "metadata": {},
   "source": [
    "## 7D — Automated experiment report"
   ]
  },
  {
   "cell_type": "code",
   "execution_count": 188,
   "id": "646813aa-2760-410d-a139-faa050e8e33a",
   "metadata": {},
   "outputs": [
    {
     "name": "stdout",
     "output_type": "stream",
     "text": [
      "Bootstrap 95.0% CI: [-0.25038143  2.4893949 ]\n",
      "# Experiment Report\n",
      "\n",
      "**Sample size:** Treatment=3600, Control=3443\n",
      "\n",
      "**Pre-experiment balance:**\n",
      "                     tenure  MonthlyCharges\n",
      "experiment_group                           \n",
      "control           32.086262       64.189936\n",
      "treatment         32.643611       65.308514\n",
      "\n",
      "**Proportion z-test:** stat=0.900, p-value=0.3682\n",
      "\n",
      "**Continuous metric:** Effect size=1.12, 95% CI=[-0.25038143  2.4893949 ]\n",
      "\n",
      "**Business lift estimate:** $4026.88\n",
      "\n",
      "**Recommendation:** Do not rollout / segment\n",
      "\n"
     ]
    }
   ],
   "source": [
    "def experiment_report(df, metric='Churn', revenue_col='MonthlyCharges', alpha=0.05):\n",
    "    report_md = \"# Experiment Report\\n\\n\"\n",
    "\n",
    "    # Sample size\n",
    "    counts = df['experiment_group'].value_counts()\n",
    "    report_md += f\"**Sample size:** Treatment={counts['treatment']}, Control={counts['control']}\\n\\n\"\n",
    "\n",
    "    # Assignment checks\n",
    "    balance_metrics = df.groupby('experiment_group')[['tenure', revenue_col]].mean()\n",
    "    report_md += f\"**Pre-experiment balance:**\\n{balance_metrics}\\n\\n\"\n",
    "\n",
    "    # Binary metric: proportion test\n",
    "    conv_treatment = df[df['experiment_group']=='treatment'][metric].sum()\n",
    "    conv_control = df[df['experiment_group']=='control'][metric].sum()\n",
    "    n_treatment = counts['treatment']\n",
    "    n_control = counts['control']\n",
    "    stat, pval = sm.stats.proportions_ztest([conv_treatment, conv_control],[n_treatment, n_control])\n",
    "    report_md += f\"**Proportion z-test:** stat={stat:.3f}, p-value={pval:.4f}\\n\\n\"\n",
    "\n",
    "    # Continuous metric: bootstrap CI\n",
    "    treatment_vals = df[df['experiment_group']=='treatment'][revenue_col].values\n",
    "    control_vals = df[df['experiment_group']=='control'][revenue_col].values\n",
    "    ci = bootstrap_diff(treatment_vals, control_vals)\n",
    "    effect_size = treatment_vals.mean() - control_vals.mean()\n",
    "    report_md += f\"**Continuous metric:** Effect size={effect_size:.2f}, 95% CI={ci}\\n\\n\"\n",
    "\n",
    "    # Business lift estimate\n",
    "    lift = effect_size * n_treatment\n",
    "    report_md += f\"**Business lift estimate:** ${lift:.2f}\\n\\n\"\n",
    "\n",
    "    # Recommendation\n",
    "    recommendation = \"Rollout\" if pval < alpha and effect_size > 0 else \"Do not rollout / segment\"\n",
    "    report_md += f\"**Recommendation:** {recommendation}\\n\"\n",
    "\n",
    "    return report_md\n",
    "\n",
    "# Generate report\n",
    "report = experiment_report(df)\n",
    "print(report)\n"
   ]
  },
  {
   "cell_type": "code",
   "execution_count": null,
   "id": "412fee47-d78f-4f4e-b011-60a6ab55b48d",
   "metadata": {},
   "outputs": [],
   "source": []
  }
 ],
 "metadata": {
  "kernelspec": {
   "display_name": "Python 3 (ipykernel)",
   "language": "python",
   "name": "python3"
  },
  "language_info": {
   "codemirror_mode": {
    "name": "ipython",
    "version": 3
   },
   "file_extension": ".py",
   "mimetype": "text/x-python",
   "name": "python",
   "nbconvert_exporter": "python",
   "pygments_lexer": "ipython3",
   "version": "3.10.18"
  }
 },
 "nbformat": 4,
 "nbformat_minor": 5
}
